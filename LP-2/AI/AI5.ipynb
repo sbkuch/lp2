{
 "cells": [
  {
   "cell_type": "code",
   "execution_count": null,
   "id": "11f13954-d82b-4976-8690-c73f888b9472",
   "metadata": {},
   "outputs": [],
   "source": []
  }
 ],
 "metadata": {
  "kernelspec": {
   "display_name": "",
   "name": ""
  },
  "language_info": {
   "name": ""
  }
 },
 "nbformat": 4,
 "nbformat_minor": 5
}
