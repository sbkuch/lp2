{
 "cells": [
  {
   "cell_type": "code",
   "execution_count": 2,
   "id": "76b2b452-2472-4d16-afa7-3eaf6c89f945",
   "metadata": {},
   "outputs": [
    {
     "name": "stdout",
     "output_type": "stream",
     "text": [
      "Employee Performance Evaluation\n",
      "Please enter positive criteria from the list below, separated by commas:\n",
      "- exceeds_deadlines\n",
      "- high_quality_work\n",
      "- great_team_player\n",
      "- consistently_improves\n",
      "- excellent_communication\n",
      "\n",
      "\n"
     ]
    },
    {
     "name": "stdin",
     "output_type": "stream",
     "text": [
      ">  exceeds_deadlines,high_quality_work,excellent_communication\n"
     ]
    },
    {
     "name": "stdout",
     "output_type": "stream",
     "text": [
      "\n",
      "Please enter negative criteria from the list below, separated by commas:\n",
      "- misses_deadlines\n",
      "- poor_quality_work\n",
      "- poor_team_player\n",
      "- resistant_to_feedback\n",
      "- poor_communication\n",
      "\n",
      "\n"
     ]
    },
    {
     "name": "stdin",
     "output_type": "stream",
     "text": [
      ">  poor_team_player\n"
     ]
    },
    {
     "name": "stdout",
     "output_type": "stream",
     "text": [
      "\n",
      "Employee Score: 7\n",
      "\n",
      "Performance: Good\n"
     ]
    }
   ],
   "source": [
    "# Knowledge Base\n",
    "positive_criteria = {\n",
    "    \"exceeds_deadlines\": 5,\n",
    "    \"high_quality_work\": 4,\n",
    "    \"great_team_player\": 3,\n",
    "    \"consistently_improves\": 2,\n",
    "    \"excellent_communication\": 1\n",
    "}\n",
    "\n",
    "negative_criteria = {\n",
    "    \"misses_deadlines\": -5,\n",
    "    \"poor_quality_work\": -4,\n",
    "    \"poor_team_player\": -3,\n",
    "    \"resistant_to_feedback\": -2,\n",
    "    \"poor_communication\": -1\n",
    "}\n",
    "\n",
    "# Rule Engine\n",
    "def evaluate_employee(positives, negatives):\n",
    "    score = 0\n",
    "    for pos in positives:\n",
    "        score += positive_criteria.get(pos, 0)\n",
    "\n",
    "    for neg in negatives:\n",
    "        score += negative_criteria.get(neg, 0)\n",
    "\n",
    "    return score\n",
    "\n",
    "# User Interface\n",
    "def user_interface():\n",
    "    print(\"Employee Performance Evaluation\")\n",
    "    \n",
    "    print(\"Please enter positive criteria from the list below, separated by commas:\")\n",
    "    for criterion in positive_criteria:\n",
    "        print(f\"- {criterion}\")\n",
    "    \n",
    "    print(\"\\n\")\n",
    "    positives_input = input(\"> \")\n",
    "\n",
    "    print(\"\\nPlease enter negative criteria from the list below, separated by commas:\")\n",
    "    for criterion in negative_criteria:\n",
    "        print(f\"- {criterion}\")\n",
    "    \n",
    "    print(\"\\n\")\n",
    "    negatives_input = input(\"> \")\n",
    "    positives = [item.strip() for item in positives_input.split(\",\")]\n",
    "    negatives = [item.strip() for item in negatives_input.split(\",\")]\n",
    "\n",
    "    score = evaluate_employee(positives, negatives)\n",
    "\n",
    "    print(f\"\\nEmployee Score: {score}\\n\")\n",
    "\n",
    "    if score > 10:\n",
    "        print(\"Performance: Outstanding\")\n",
    "    elif score > 5:\n",
    "        print(\"Performance: Good\")\n",
    "    elif score > 0:\n",
    "        print(\"Performance: Satisfactory\")\n",
    "    else:\n",
    "        print(\"Performance: Needs Improvement\")\n",
    "\n",
    "if __name__ == \"__main__\":\n",
    "    user_interface()\n"
   ]
  },
  {
   "cell_type": "code",
   "execution_count": null,
   "id": "94ef1e5c-8e8d-439b-b955-607f57a8fe6c",
   "metadata": {},
   "outputs": [],
   "source": []
  }
 ],
 "metadata": {
  "kernelspec": {
   "display_name": "Python [conda env:base] *",
   "language": "python",
   "name": "conda-base-py"
  },
  "language_info": {
   "codemirror_mode": {
    "name": "ipython",
    "version": 3
   },
   "file_extension": ".py",
   "mimetype": "text/x-python",
   "name": "python",
   "nbconvert_exporter": "python",
   "pygments_lexer": "ipython3",
   "version": "3.12.7"
  }
 },
 "nbformat": 4,
 "nbformat_minor": 5
}
