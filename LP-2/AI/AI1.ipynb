{
 "cells": [
  {
   "cell_type": "code",
   "execution_count": 1,
   "id": "7d4f763e-8c2c-4783-98e5-299f5515ff5b",
   "metadata": {},
   "outputs": [
    {
     "name": "stdout",
     "output_type": "stream",
     "text": [
      "B\n",
      "A\n",
      "C\n",
      "F\n",
      "G\n",
      "D\n",
      "E\n"
     ]
    }
   ],
   "source": [
    "def dfs(graph, node, visited):\n",
    "    if node not in visited:\n",
    "        print(node)\n",
    "        visited.add(node)\n",
    "        for neighbor in graph[node]:\n",
    "            dfs(graph, neighbor, visited)\n",
    "\n",
    "graph = {\n",
    "    'A': ['B', 'C'],\n",
    "    'B': ['A', 'D', 'E'],\n",
    "    'C': ['A', 'F', 'G'],\n",
    "    'D': ['B'],\n",
    "    'E': ['B'],\n",
    "    'F': ['C'],\n",
    "    'G': ['C']\n",
    "}\n",
    "\n",
    "dfs(graph, 'B', set())\n"
   ]
  },
  {
   "cell_type": "code",
   "execution_count": 3,
   "id": "1ba06553-1fea-4c84-9711-84c21672aeef",
   "metadata": {},
   "outputs": [
    {
     "data": {
      "text/plain": [
       "{'A', 'B', 'C', 'D', 'E', 'F', 'G'}"
      ]
     },
     "execution_count": 3,
     "metadata": {},
     "output_type": "execute_result"
    }
   ],
   "source": [
    "def bfs(graph, start):\n",
    "    visited, queue = set(), [start]\n",
    "    while queue:\n",
    "        vertex = queue.pop(0)\n",
    "        if vertex not in visited:\n",
    "            visited.add(vertex)\n",
    "            queue.extend(graph[vertex] - visited)\n",
    "    return visited\n",
    "\n",
    "graph = {\n",
    "    'A': {'B', 'C'},\n",
    "    'B': {'A', 'D', 'E'},\n",
    "    'C': {'A', 'F', 'G'},\n",
    "    'D': {'B'},\n",
    "    'E': {'B'},\n",
    "    'F': {'C'},\n",
    "    'G': {'C'}\n",
    "}\n",
    "\n",
    "bfs(graph, 'A')\n"
   ]
  },
  {
   "cell_type": "code",
   "execution_count": null,
   "id": "10e0cfbf-9112-4926-9ef5-3ac3ac4b9ce5",
   "metadata": {},
   "outputs": [],
   "source": []
  }
 ],
 "metadata": {
  "kernelspec": {
   "display_name": "Python [conda env:base] *",
   "language": "python",
   "name": "conda-base-py"
  },
  "language_info": {
   "codemirror_mode": {
    "name": "ipython",
    "version": 3
   },
   "file_extension": ".py",
   "mimetype": "text/x-python",
   "name": "python",
   "nbconvert_exporter": "python",
   "pygments_lexer": "ipython3",
   "version": "3.12.7"
  }
 },
 "nbformat": 4,
 "nbformat_minor": 5
}
