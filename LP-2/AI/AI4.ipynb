{
 "cells": [
  {
   "cell_type": "code",
   "execution_count": 3,
   "id": "e7ce58f0-e864-4396-8571-8f5d748f973c",
   "metadata": {},
   "outputs": [
    {
     "name": "stdin",
     "output_type": "stream",
     "text": [
      "Enter the number of queens:  8\n"
     ]
    },
    {
     "name": "stdout",
     "output_type": "stream",
     "text": [
      "[1, 0, 0, 0, 0, 0, 0, 0]\n",
      "[0, 0, 0, 0, 1, 0, 0, 0]\n",
      "[0, 0, 0, 0, 0, 0, 0, 1]\n",
      "[0, 0, 0, 0, 0, 1, 0, 0]\n",
      "[0, 0, 1, 0, 0, 0, 0, 0]\n",
      "[0, 0, 0, 0, 0, 0, 1, 0]\n",
      "[0, 1, 0, 0, 0, 0, 0, 0]\n",
      "[0, 0, 0, 1, 0, 0, 0, 0]\n"
     ]
    }
   ],
   "source": [
    "N = int(input(\"Enter the number of queens: \"))\n",
    "board = [[0]*N for _ in range(N)]\n",
    "\n",
    "def is_safe(row, col):\n",
    "    for i in range(row):\n",
    "        if board[i][col] or \\\n",
    "           (col - (row - i) >= 0 and board[i][col - (row - i)]) or \\\n",
    "           (col + (row - i) < N and board[i][col + (row - i)]):\n",
    "            return False\n",
    "    return True\n",
    "\n",
    "def solve(row=0):\n",
    "    if row == N:\n",
    "        return True\n",
    "    for col in range(N):\n",
    "        if is_safe(row, col):\n",
    "            board[row][col] = 1\n",
    "            if solve(row + 1):\n",
    "                return True\n",
    "            board[row][col] = 0\n",
    "    return False\n",
    "\n",
    "solve()\n",
    "for row in board:\n",
    "    print(row)\n"
   ]
  },
  {
   "cell_type": "code",
   "execution_count": null,
   "id": "7579d051-2efd-4c4c-8c2e-a317d22cbf6a",
   "metadata": {},
   "outputs": [],
   "source": []
  }
 ],
 "metadata": {
  "kernelspec": {
   "display_name": "Python [conda env:base] *",
   "language": "python",
   "name": "conda-base-py"
  },
  "language_info": {
   "codemirror_mode": {
    "name": "ipython",
    "version": 3
   },
   "file_extension": ".py",
   "mimetype": "text/x-python",
   "name": "python",
   "nbconvert_exporter": "python",
   "pygments_lexer": "ipython3",
   "version": "3.12.7"
  }
 },
 "nbformat": 4,
 "nbformat_minor": 5
}
